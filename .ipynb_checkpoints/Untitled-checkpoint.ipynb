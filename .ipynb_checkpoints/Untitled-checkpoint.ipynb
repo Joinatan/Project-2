{
 "cells": [
  {
   "cell_type": "code",
   "execution_count": 1,
   "id": "39372ed2",
   "metadata": {},
   "outputs": [],
   "source": [
    "import numpy as np\n",
    "import matplotlib.pyplot as plt"
   ]
  },
  {
   "cell_type": "code",
   "execution_count": 27,
   "id": "e5fbc435",
   "metadata": {},
   "outputs": [],
   "source": [
    "y = 0\n",
    "def feed_forward(w):\n",
    "    const =(1-np.e**(-1j *w)) \n",
    "    delayLine = 1\n",
    "    for k in range(1, 5):\n",
    "        delayLine *= 1 - e**(-1j * w) * e**(-0.11j * np.pi * (2 * k - 1))\n",
    "        delayLine *= 1 - e**(-1j * w) * e**(0.11j * np.pi * (2 * k - 1))\n",
    "    delayLine *= const\n",
    "    return delayLine\n",
    "        \n",
    "def feedback(w):\n",
    "    delayLine = 1\n",
    "    for k in range(1, 5):\n",
    "        delayLine *= 1 - 0.9 * e**(-1j * w) * e**(-0.22j * np.pi * k)\n",
    "        delayLine *= 1 - 0.9 * e**(-1j * w) * e**(0.22j * np.pi * k)\n",
    "    delayLine *= 100\n",
    "    return delayLine\n",
    "\n",
    "def H_z(w):\n",
    "    return feed_forward(w)/feedback(w)"
   ]
  },
  {
   "cell_type": "code",
   "execution_count": null,
   "id": "4f0a5955",
   "metadata": {},
   "outputs": [],
   "source": []
  },
  {
   "cell_type": "code",
   "execution_count": null,
   "id": "4e840a8f",
   "metadata": {},
   "outputs": [],
   "source": []
  }
 ],
 "metadata": {
  "kernelspec": {
   "display_name": "Python 3 (ipykernel)",
   "language": "python",
   "name": "python3"
  },
  "language_info": {
   "codemirror_mode": {
    "name": "ipython",
    "version": 3
   },
   "file_extension": ".py",
   "mimetype": "text/x-python",
   "name": "python",
   "nbconvert_exporter": "python",
   "pygments_lexer": "ipython3",
   "version": "3.10.6"
  }
 },
 "nbformat": 4,
 "nbformat_minor": 5
}
